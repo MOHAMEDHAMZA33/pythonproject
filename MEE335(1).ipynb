{
 "cells": [
  {
   "cell_type": "markdown",
   "id": "7e5612c7",
   "metadata": {},
   "source": [
    "### Trigonometric ratios are special measures of a triangle. The two sides of a right triangle by transmission from a right angle are called the legs, and the third side is called the hypotenuse.\n",
    "\n",
    "### Utility of Trigonometric Ratios:\n",
    "Finding unknown side lengths if we know the length of only one of the three sides."
   ]
  },
  {
   "cell_type": "code",
   "execution_count": 3,
   "id": "e04934df",
   "metadata": {},
   "outputs": [
    {
     "name": "stdout",
     "output_type": "stream",
     "text": [
      "Enter the length of the side (A)4\n",
      "Enter the length of the side (B)3\n",
      "Enter the length of the side (C)(hypotenuse)5\n",
      "sin(a)= 0.6\n",
      "cos(a)= 0.8\n",
      "sin(b)= 0.8\n",
      "cos(b)= 0.6\n",
      "sin(c)= 1.0\n",
      "cos(c)=0\n"
     ]
    }
   ],
   "source": [
    "A=int(input(\"Enter the length of the side (A)\"))\n",
    "B=int(input(\"Enter the length of the side (B)\"))\n",
    "C=int(input(\"Enter the length of the side (C)(hypotenuse)\"))\n",
    "if A>B:\n",
    "    if (A+B)>C and (A-B)<C:\n",
    "        sina=B/C\n",
    "        cosa=A/C\n",
    "        sinb=A/C\n",
    "        cosb=B/C\n",
    "        sinc=C/C\n",
    "        cosc=0\n",
    "        print(\"sin(a)=\",sina)\n",
    "        print(\"cos(a)=\",cosa)\n",
    "        print(\"sin(b)=\",sinb)\n",
    "        print(\"cos(b)=\",cosb)\n",
    "        print(\"sin(c)=\",sinc)\n",
    "        print(\"cos(c)=0\")\n",
    "    else: \n",
    "        print (\" You have entered wrong values\")\n",
    "else:\n",
    "    if (A+B)>C and (B-A)<C:\n",
    "        sina=B/C\n",
    "        cosa=A/C\n",
    "        sinb=A/C\n",
    "        cosb=B/C\n",
    "        sinc=C/C\n",
    "        cosc=0\n",
    "        print(\"sin(a)=\",sina)\n",
    "        print(\"cos(a)=\",cosa)\n",
    "        print(\"sin(b)=\",sinb)\n",
    "        print(\"cos(b)=\",cosb)\n",
    "        print(\"sin(c)=\",sinc)\n",
    "        print(\"cos(c)=0\")\n",
    "    else:\n",
    "        print (\" You have entered wrong values\")"
   ]
  },
  {
   "cell_type": "markdown",
   "id": "c4fa06e4",
   "metadata": {},
   "source": [
    "### The equation that changed the world!\n",
    "### E = m c²\n",
    "The equation states that the energy of an object is equal to its mass times the speed of light squared!!!!\n",
    "\n",
    "It means that the energy that can be extracted from a very small body, may be enough to destroy an entire planet!"
   ]
  },
  {
   "cell_type": "code",
   "execution_count": 16,
   "id": "3a657cd0",
   "metadata": {
    "scrolled": true
   },
   "outputs": [
    {
     "name": "stdout",
     "output_type": "stream",
     "text": [
      "Enter the mass value (kg)50\n",
      "Energy is  4.5e+18 J\n"
     ]
    }
   ],
   "source": [
    "m=int(input(\"Enter the mass value (kg)\"))\n",
    "c=3.00*10**8\n",
    "E=m*c**2\n",
    "print('Energy is ',E,'J')"
   ]
  },
  {
   "cell_type": "markdown",
   "id": "dea55504",
   "metadata": {},
   "source": [
    "### The sum of the angles of a triangle of any kind is always equal to 180 degrees.\n",
    "So if we know the degrees of two angles in a triangle, we can calculate the third angle\n"
   ]
  },
  {
   "cell_type": "code",
   "execution_count": 12,
   "id": "0edaea22",
   "metadata": {},
   "outputs": [
    {
     "name": "stdout",
     "output_type": "stream",
     "text": [
      "Enter the degree of angle (a)45\n",
      "Enter the degree of angle (b)45\n",
      "The values of angle c is  90\n"
     ]
    }
   ],
   "source": [
    "a=int(input(\"Enter the degree of angle (a)\"))\n",
    "b=int(input(\"Enter the degree of angle (b)\"))\n",
    "c=180-(a+b)\n",
    "print(\"The values of angle c is \",c)\n"
   ]
  },
  {
   "cell_type": "code",
   "execution_count": null,
   "id": "ca6d6f99",
   "metadata": {},
   "outputs": [],
   "source": []
  }
 ],
 "metadata": {
  "kernelspec": {
   "display_name": "Python 3 (ipykernel)",
   "language": "python",
   "name": "python3"
  },
  "language_info": {
   "codemirror_mode": {
    "name": "ipython",
    "version": 3
   },
   "file_extension": ".py",
   "mimetype": "text/x-python",
   "name": "python",
   "nbconvert_exporter": "python",
   "pygments_lexer": "ipython3",
   "version": "3.9.12"
  }
 },
 "nbformat": 4,
 "nbformat_minor": 5
}
